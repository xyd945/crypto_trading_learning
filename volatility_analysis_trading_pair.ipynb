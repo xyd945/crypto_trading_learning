{
  "nbformat": 4,
  "nbformat_minor": 0,
  "metadata": {
    "colab": {
      "provenance": [],
      "authorship_tag": "ABX9TyONrwJ8NhjpHmMea5KPAabK",
      "include_colab_link": true
    },
    "kernelspec": {
      "name": "python3",
      "display_name": "Python 3"
    },
    "language_info": {
      "name": "python"
    }
  },
  "cells": [
    {
      "cell_type": "markdown",
      "metadata": {
        "id": "view-in-github",
        "colab_type": "text"
      },
      "source": [
        "<a href=\"https://colab.research.google.com/github/xyd945/crypto_trading_learning/blob/main/volatility_analysis_trading_pair.ipynb\" target=\"_parent\"><img src=\"https://colab.research.google.com/assets/colab-badge.svg\" alt=\"Open In Colab\"/></a>"
      ]
    },
    {
      "cell_type": "code",
      "source": [
        "#install the gate api package\n",
        "!pip install --user gate-api\n"
      ],
      "metadata": {
        "colab": {
          "base_uri": "https://localhost:8080/"
        },
        "id": "fJODKQZkp9OZ",
        "outputId": "a4a49f99-b6e6-4768-868e-cdcd8064a88d"
      },
      "execution_count": 12,
      "outputs": [
        {
          "output_type": "stream",
          "name": "stdout",
          "text": [
            "Looking in indexes: https://pypi.org/simple, https://us-python.pkg.dev/colab-wheels/public/simple/\n",
            "Requirement already satisfied: gate-api in /root/.local/lib/python3.8/site-packages (4.35.0)\n",
            "Requirement already satisfied: urllib3>=1.15 in /usr/local/lib/python3.8/dist-packages (from gate-api) (1.24.3)\n",
            "Requirement already satisfied: certifi in /usr/local/lib/python3.8/dist-packages (from gate-api) (2022.12.7)\n",
            "Requirement already satisfied: python-dateutil in /usr/local/lib/python3.8/dist-packages (from gate-api) (2.8.2)\n",
            "Requirement already satisfied: six>=1.10 in /usr/local/lib/python3.8/dist-packages (from gate-api) (1.15.0)\n"
          ]
        }
      ]
    },
    {
      "cell_type": "code",
      "execution_count": 9,
      "metadata": {
        "id": "sOOv_AUgznca"
      },
      "outputs": [],
      "source": [
        "import matplotlib.pyplot as plt\n",
        "from datetime import datetime\n",
        "from datetime import timedelta\n",
        "from gate_api import ApiClient, Configuration, Order, SpotApi\n"
      ]
    },
    {
      "cell_type": "code",
      "source": [
        "date_to = datetime.now()\n",
        "date_from = date_to - timedelta(hours=12)\n",
        "\n",
        "#set up api connection\n",
        "configuration = Configuration(key=\"YOUR_KEY\", secret=\"YOUR_KEY_SECRET\", host=\"https://api.gateio.ws/api/v4\")\n",
        "client = ApiClient(configuration)\n",
        "spot_api = SpotApi(client)\n",
        "\n",
        "data = spot_api.list_candlesticks(\"BTC_USDT\",\n",
        "    _from=int(date_from.timestamp()),\n",
        "    to=int(date_to.timestamp()),\n",
        "    interval=\"1m\")\n",
        "x = [(float(i[5]) - float(i[4])) / float(i[2]) for i in data]\n",
        "\n",
        "#we analyse the recent transaction price and also print out the top5 records to help us understand the volatility and choose the right spread\n",
        "\n",
        "print(\"TOP 5 record \", sorted(x, key=None, reverse=True)[:5])\n",
        "plt.hist(x, 50, density=True, stacked=True, histtype='bar', linewidth=3, color='y')\n",
        "plt.title('volatility distribution', fontweight=\"bold\") \n",
        "plt.show()"
      ],
      "metadata": {
        "id": "HqNSoBR70RA_",
        "colab": {
          "base_uri": "https://localhost:8080/",
          "height": 318
        },
        "outputId": "ab3ed3e0-ef10-48b0-8b56-780b0014b423"
      },
      "execution_count": 14,
      "outputs": [
        {
          "output_type": "stream",
          "name": "stdout",
          "text": [
            "TOP 5 record  [0.0009532830949119585, 0.0008094133565285502, 0.0006216690909751098, 0.0005598632248121311, 0.0005486720327998663]\n"
          ]
        },
        {
          "output_type": "display_data",
          "data": {
            "text/plain": [
              "<Figure size 432x288 with 1 Axes>"
            ],
            "image/png": "[encoded data removed]"
          },
          "metadata": {
            "needs_background": "light"
          }
        }
      ]
    },
    {
      "cell_type": "code",
      "source": [],
      "metadata": {
        "id": "TUSMFeJUu20S"
      },
      "execution_count": null,
      "outputs": []
    }
  ]
}